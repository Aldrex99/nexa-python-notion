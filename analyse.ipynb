{
 "cells": [
  {
   "cell_type": "markdown",
   "id": "449b29cde4337a53",
   "metadata": {},
   "source": [
    "# Analyse des interventions non facturées\n",
    "\n",
    "Ce notebook permet d'analyser les interventions non facturées dans Notion."
   ]
  },
  {
   "cell_type": "code",
   "id": "43eb8ea57fbbc3",
   "metadata": {
    "ExecuteTime": {
     "end_time": "2025-06-13T12:38:50.811377Z",
     "start_time": "2025-06-13T12:38:50.269818Z"
    }
   },
   "source": [
    "import pandas as pd\n",
    "import datetime\n",
    "\n",
    "from src.notion_module.analyse import from_interventions_to_datas\n",
    "from src.notion_module.core import query_unbilled_entries, create_invoice_page, mark_as_billed"
   ],
   "outputs": [],
   "execution_count": 1
  },
  {
   "metadata": {},
   "cell_type": "markdown",
   "source": "# Analyse des interventions non facturées (Étape 2)",
   "id": "8c1b98791613c915"
  },
  {
   "cell_type": "code",
   "id": "6a965ea029f7e0f1",
   "metadata": {
    "ExecuteTime": {
     "end_time": "2025-06-13T12:38:51.785086Z",
     "start_time": "2025-06-13T12:38:50.918123Z"
    }
   },
   "source": [
    "def etape_2 ():\n",
    "    \"\"\"\n",
    "        Cette fonction permet de récupérer les interventions non facturées\n",
    "        dans Notion et de les transformer en DataFrame pour analyse.\n",
    "        Pour ignorer le statut de facturation, on peut passer le dernier paramètre à None\n",
    "    \"\"\"\n",
    "    interventions = query_unbilled_entries(\"2025-05-01\", \"2025-09-30\", None)\n",
    "\n",
    "    datas = from_interventions_to_datas(interventions)\n",
    "\n",
    "    df = pd.DataFrame(datas)\n",
    "\n",
    "    # Conversion de la date en datetime\n",
    "    df['Date de début'] = pd.to_datetime(df['Date de début'])\n",
    "\n",
    "    # Ajout colonne mois\n",
    "    df['Mois'] = df['Date de début'].dt.to_period('M')\n",
    "\n",
    "    # Calcul somme à facturer\n",
    "    df['Somme à facturer'] = df['Nombre heures'] * df['Tarif horaire']\n",
    "\n",
    "    print(\"✅ Les données ont été transformées en DataFrame avec succès.\")\n",
    "\n",
    "    return df\n",
    "\n",
    "dataframes = etape_2()"
   ],
   "outputs": [
    {
     "name": "stdout",
     "output_type": "stream",
     "text": [
      "✅ Les données ont été transformées en DataFrame avec succès.\n"
     ]
    }
   ],
   "execution_count": 2
  },
  {
   "metadata": {
    "ExecuteTime": {
     "end_time": "2025-06-13T12:38:51.796432Z",
     "start_time": "2025-06-13T12:38:51.787568Z"
    }
   },
   "cell_type": "code",
   "source": [
    "def by_city(df):\n",
    "    df_ville = df.groupby('Ville').agg(\n",
    "        nb_ecoles=('Ecole', 'nunique'),\n",
    "        nb_heures=('Nombre heures', 'sum'),\n",
    "        somme_a_facturer=('Somme à facturer', 'sum')\n",
    "    ).reset_index()\n",
    "\n",
    "    print(\"Nombre d'écoles par ville :\")\n",
    "    print(df_ville)\n",
    "\n",
    "by_city(dataframes)"
   ],
   "id": "32fb67bd6ee8fd22",
   "outputs": [
    {
     "name": "stdout",
     "output_type": "stream",
     "text": [
      "Nombre d'écoles par ville :\n",
      "            Ville  nb_ecoles  nb_heures  somme_a_facturer\n",
      "0            Evry          1       49.5             485.0\n",
      "1  Noisy-le-Grand          1       63.0             490.0\n",
      "2           Paris          2       46.0             690.0\n"
     ]
    }
   ],
   "execution_count": 3
  },
  {
   "metadata": {
    "ExecuteTime": {
     "end_time": "2025-06-13T12:38:51.817368Z",
     "start_time": "2025-06-13T12:38:51.810945Z"
    }
   },
   "cell_type": "code",
   "source": [
    "def by_school_and_class(df):\n",
    "    df_ecole_classe = df.groupby(['Ecole', 'Classe']).agg(\n",
    "        nb_heures=('Nombre heures', 'sum'),\n",
    "        somme_a_facturer=('Somme à facturer', 'sum')\n",
    "    ).reset_index()\n",
    "\n",
    "    print(\"Nombre d'heures par école et par classe :\")\n",
    "    print(df_ecole_classe)\n",
    "\n",
    "by_school_and_class(dataframes)"
   ],
   "id": "e1bbadc40a89b41",
   "outputs": [
    {
     "name": "stdout",
     "output_type": "stream",
     "text": [
      "Nombre d'heures par école et par classe :\n",
      "                 Ecole    Classe  nb_heures  somme_a_facturer\n",
      "0                  ECE   BTS SIO        3.5              52.5\n",
      "1                  ECE        L3       26.5             397.5\n",
      "2               ENSIIE        L3       19.5             150.0\n",
      "3               ENSIIE  M1 EDWEB       14.0             210.0\n",
      "4               ENSIIE  M1 Maths       16.0             125.0\n",
      "5                ESIEE        M1       63.0             490.0\n",
      "6  NEXA Digital School   BTS SIO       16.0             240.0\n"
     ]
    }
   ],
   "execution_count": 4
  },
  {
   "metadata": {
    "ExecuteTime": {
     "end_time": "2025-06-13T12:38:51.834464Z",
     "start_time": "2025-06-13T12:38:51.826661Z"
    }
   },
   "cell_type": "code",
   "source": [
    "def by_month(df):\n",
    "    # On distingue passé vs futur (par rapport à aujourd'hui)\n",
    "    aujourdhui = pd.to_datetime(datetime.datetime.today().date())\n",
    "\n",
    "    df['periode'] = df['Date de début'].apply(lambda d: 'Passé' if d < aujourdhui else 'Futur')\n",
    "\n",
    "    df_mois_periode = df.groupby(['Mois', 'periode']).agg(\n",
    "        nb_heures=('Nombre heures', 'sum')\n",
    "    ).reset_index()\n",
    "\n",
    "    print(\"Nombre d'heures par mois et état de la période :\")\n",
    "    print(df_mois_periode)\n",
    "\n",
    "by_month(dataframes)"
   ],
   "id": "54414a7ab2d955fe",
   "outputs": [
    {
     "name": "stdout",
     "output_type": "stream",
     "text": [
      "Nombre d'heures par mois et état de la période :\n",
      "      Mois periode  nb_heures\n",
      "0  2025-05   Passé       14.0\n",
      "1  2025-06   Futur       35.0\n",
      "2  2025-06   Passé       28.0\n",
      "3  2025-07   Futur       50.0\n",
      "4  2025-08   Futur       31.5\n"
     ]
    }
   ],
   "execution_count": 5
  },
  {
   "metadata": {},
   "cell_type": "markdown",
   "source": "# Création de la page de facture (Étape 3 à 6)",
   "id": "39c83500871879c7"
  },
  {
   "metadata": {
    "ExecuteTime": {
     "end_time": "2025-06-13T12:39:15.104593Z",
     "start_time": "2025-06-13T12:38:51.839497Z"
    }
   },
   "cell_type": "code",
   "source": [
    "def etape_3():\n",
    "    \"\"\"\n",
    "        Cette fonction permet de créer une page de facture dans Notion\n",
    "        à partir des données d'interventions non facturées.\n",
    "    \"\"\"\n",
    "    interventions = query_unbilled_entries(\"2025-01-01\", \"2025-09-30\", None)\n",
    "\n",
    "    client = \"ENSIIE\"\n",
    "\n",
    "    interventions_client = [\n",
    "        i for i in interventions\n",
    "        if i[\"properties\"][\"Ecole\"][\"select\"]\n",
    "        and i[\"properties\"][\"Ecole\"][\"select\"][\"name\"] == client\n",
    "    ]\n",
    "\n",
    "    # On crée la page de facture\n",
    "    create_invoice_page(\n",
    "        client,\n",
    "        interventions_client,\n",
    "        \"2025-09\",\n",
    "        \"Alexandre5\",\n",
    "    )\n",
    "\n",
    "    print(f\"✅ La page de facture du client {client} a été créée avec succès. Il y a {len(interventions_client)} interventions facturées.\")\n",
    "\n",
    "    mark_as_billed(interventions_client)\n",
    "\n",
    "    print(f\"✅ Les interventions du client {client} ont été marquées comme facturées.\")\n",
    "\n",
    "etape_3()"
   ],
   "id": "87e52dc42e7beb90",
   "outputs": [
    {
     "name": "stdout",
     "output_type": "stream",
     "text": [
      "✅ La page de facture du client ENSIIE a été créée avec succès. Il y a 13 interventions facturées.\n",
      "✅ Les interventions du client ENSIIE ont été marquées comme facturées.\n"
     ]
    }
   ],
   "execution_count": 6
  }
 ],
 "metadata": {
  "kernelspec": {
   "display_name": "Python 3 (ipykernel)",
   "language": "python",
   "name": "python3"
  },
  "language_info": {
   "codemirror_mode": {
    "name": "ipython",
    "version": 3
   },
   "file_extension": ".py",
   "mimetype": "text/x-python",
   "name": "python",
   "nbconvert_exporter": "python",
   "pygments_lexer": "ipython3",
   "version": "3.12.4"
  }
 },
 "nbformat": 4,
 "nbformat_minor": 5
}
