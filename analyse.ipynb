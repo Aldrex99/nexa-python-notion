{
 "cells": [
  {
   "cell_type": "markdown",
   "id": "449b29cde4337a53",
   "metadata": {},
   "source": [
    "# Analyse des interventions non facturées\n",
    "\n",
    "Ce notebook permet d'analyser les interventions non facturées dans Notion."
   ]
  },
  {
   "cell_type": "code",
   "id": "43eb8ea57fbbc3",
   "metadata": {
    "ExecuteTime": {
     "end_time": "2025-06-13T12:06:01.587339Z",
     "start_time": "2025-06-13T12:06:00.888143Z"
    }
   },
   "source": [
    "import pandas as pd\n",
    "import datetime\n",
    "\n",
    "from src.notion_module.analyse import from_interventions_to_datas\n",
    "from src.notion_module.core import query_unbilled_entries\n",
    "from src.notion_module.core import create_invoice_page"
   ],
   "outputs": [],
   "execution_count": 1
  },
  {
   "cell_type": "code",
   "id": "6a965ea029f7e0f1",
   "metadata": {
    "ExecuteTime": {
     "end_time": "2025-06-13T12:06:11.994418Z",
     "start_time": "2025-06-13T12:06:01.691372Z"
    }
   },
   "source": [
    "def etape_2 ():\n",
    "    \"\"\"\n",
    "        Cette fonction permet de récupérer les interventions non facturées\n",
    "        dans Notion et de les transformer en DataFrame pour analyse.\n",
    "        Pour ignorer le statut de facturation, on peut passer le dernier paramètre à None\n",
    "    \"\"\"\n",
    "    interventions = query_unbilled_entries(\"2025-01-01\", \"2025-01-30\", None)\n",
    "\n",
    "    datas = from_interventions_to_datas(interventions)\n",
    "\n",
    "    df = pd.DataFrame(datas)\n",
    "\n",
    "    # Conversion de la date en datetime\n",
    "    df['Date de début'] = pd.to_datetime(df['Date de début'])\n",
    "\n",
    "    # Ajout colonne mois\n",
    "    df['Mois'] = df['Date de début'].dt.to_period('M')\n",
    "\n",
    "    # Calcul somme à facturer\n",
    "    df['Somme à facturer'] = df['Nombre heures'] * df['Tarif horaire']\n",
    "\n",
    "    print(df.head())\n",
    "\n",
    "    return df\n",
    "\n",
    "dataframes = etape_2()"
   ],
   "outputs": [
    {
     "name": "stdout",
     "output_type": "stream",
     "text": [
      "                Ville            Ecole Classe  Nombre heures  Tarif horaire  \\\n",
      "0  Le Kremlin-Bicêtre  EPITECH Digital     M1            7.0             10   \n",
      "1  Le Kremlin-Bicêtre  EPITECH Digital     M1            7.0             10   \n",
      "2               Paris              ECE     M1            7.0             10   \n",
      "3               Paris              ECE     M1            7.0             10   \n",
      "4  Le Kremlin-Bicêtre  EPITECH Digital     M1            7.0             10   \n",
      "\n",
      "   Facturé Date de début     Mois  Somme à facturer  \n",
      "0    False    2025-03-05  2025-03              70.0  \n",
      "1    False    2025-03-05  2025-03              70.0  \n",
      "2     True    2025-03-05  2025-03              70.0  \n",
      "3     True    2025-03-19  2025-03              70.0  \n",
      "4    False    2025-03-19  2025-03              70.0  \n"
     ]
    }
   ],
   "execution_count": 2
  },
  {
   "metadata": {
    "ExecuteTime": {
     "end_time": "2025-06-13T12:06:12.018109Z",
     "start_time": "2025-06-13T12:06:12.009648Z"
    }
   },
   "cell_type": "code",
   "source": [
    "def by_city(df):\n",
    "    df_ville = df.groupby('Ville').agg(\n",
    "        nb_ecoles=('Ecole', 'nunique'),\n",
    "        nb_heures=('Nombre heures', 'sum'),\n",
    "        somme_a_facturer=('Somme à facturer', 'sum')\n",
    "    ).reset_index()\n",
    "\n",
    "    print(df_ville)\n",
    "\n",
    "by_city(dataframes)"
   ],
   "id": "32fb67bd6ee8fd22",
   "outputs": [
    {
     "name": "stdout",
     "output_type": "stream",
     "text": [
      "                Ville  nb_ecoles  nb_heures  somme_a_facturer\n",
      "0                Evry          1       42.5             327.5\n",
      "1  Le Kremlin-Bicêtre          1       21.0             210.0\n",
      "2               Paris          2       53.0             725.0\n"
     ]
    }
   ],
   "execution_count": 3
  },
  {
   "metadata": {
    "ExecuteTime": {
     "end_time": "2025-06-13T12:06:12.069169Z",
     "start_time": "2025-06-13T12:06:12.061643Z"
    }
   },
   "cell_type": "code",
   "source": [
    "def by_school_and_class(df):\n",
    "    df_ecole_classe = df.groupby(['Ecole', 'Classe']).agg(\n",
    "        nb_heures=('Nombre heures', 'sum'),\n",
    "        somme_a_facturer=('Somme à facturer', 'sum')\n",
    "    ).reset_index()\n",
    "\n",
    "    print(df_ecole_classe)\n",
    "\n",
    "by_school_and_class(dataframes)"
   ],
   "id": "e1bbadc40a89b41",
   "outputs": [
    {
     "name": "stdout",
     "output_type": "stream",
     "text": [
      "                 Ecole    Classe  nb_heures  somme_a_facturer\n",
      "0                  ECE   BTS SIO        3.5              52.5\n",
      "1                  ECE        L3       16.0             240.0\n",
      "2                  ECE        M1       14.0             140.0\n",
      "3               ENSIIE        L3       23.0             167.5\n",
      "4               ENSIIE  M1 Maths       19.5             160.0\n",
      "5      EPITECH Digital        M1       21.0             210.0\n",
      "6  NEXA Digital School   BTS SIO       19.5             292.5\n"
     ]
    }
   ],
   "execution_count": 4
  },
  {
   "metadata": {
    "ExecuteTime": {
     "end_time": "2025-06-13T12:06:12.099758Z",
     "start_time": "2025-06-13T12:06:12.091496Z"
    }
   },
   "cell_type": "code",
   "source": [
    "def by_month(df):\n",
    "    # On distingue passé vs futur (par rapport à aujourd'hui)\n",
    "    aujourdhui = pd.to_datetime(datetime.datetime.today().date())\n",
    "\n",
    "    df['periode'] = df['Date de début'].apply(lambda d: 'Passé' if d < aujourdhui else 'Futur')\n",
    "\n",
    "    df_mois_periode = df.groupby(['Mois', 'periode']).agg(\n",
    "        nb_heures=('Nombre heures', 'sum')\n",
    "    ).reset_index()\n",
    "\n",
    "    print(df_mois_periode)\n",
    "\n",
    "by_month(dataframes)"
   ],
   "id": "54414a7ab2d955fe",
   "outputs": [
    {
     "name": "stdout",
     "output_type": "stream",
     "text": [
      "      Mois periode  nb_heures\n",
      "0  2025-03   Passé       35.0\n",
      "1  2025-04   Passé       14.0\n",
      "2  2025-05   Passé       14.0\n",
      "3  2025-07   Futur       22.0\n",
      "4  2025-08   Futur       31.5\n"
     ]
    }
   ],
   "execution_count": 5
  },
  {
   "metadata": {
    "ExecuteTime": {
     "end_time": "2025-06-13T12:06:53.913858Z",
     "start_time": "2025-06-13T12:06:12.110976Z"
    }
   },
   "cell_type": "code",
   "source": [
    "def etape_3():\n",
    "    \"\"\"\n",
    "        Cette fonction permet de créer une page de facture dans Notion\n",
    "        à partir des données d'interventions non facturées.\n",
    "    \"\"\"\n",
    "    interventions = query_unbilled_entries(\"2025-01-01\", \"2025-01-30\", None)\n",
    "\n",
    "    # On crée la page de facture\n",
    "    print(create_invoice_page(\n",
    "        \"Test\",\n",
    "        interventions,\n",
    "        \"2025-01\",\n",
    "        \"Alexandre2\",\n",
    "    ))\n",
    "\n",
    "etape_3()"
   ],
   "id": "87e52dc42e7beb90",
   "outputs": [
    {
     "name": "stdout",
     "output_type": "stream",
     "text": [
      "{'object': 'page', 'id': '2112cdbb-4757-81f4-a3dc-e994314e0411', 'created_time': '2025-06-13T12:06:00.000Z', 'last_edited_time': '2025-06-13T12:06:00.000Z', 'created_by': {'object': 'user', 'id': '3ad9a6c5-500e-4a6b-addf-a7e3896a77d6'}, 'last_edited_by': {'object': 'user', 'id': '3ad9a6c5-500e-4a6b-addf-a7e3896a77d6'}, 'cover': None, 'icon': None, 'parent': {'type': 'database_id', 'database_id': '2102cdbb-4757-8110-a76f-cb2284e29df3'}, 'archived': False, 'in_trash': False, 'properties': {'Mois': {'id': 'Jh%5EE', 'type': 'rich_text', 'rich_text': [{'type': 'text', 'text': {'content': 'June 2025', 'link': None}, 'annotations': {'bold': False, 'italic': False, 'strikethrough': False, 'underline': False, 'code': False, 'color': 'default'}, 'plain_text': 'June 2025', 'href': None}]}, 'Invoice Number': {'id': 'NoqM', 'type': 'rich_text', 'rich_text': [{'type': 'text', 'text': {'content': 'Alexandre2', 'link': None}, 'annotations': {'bold': False, 'italic': False, 'strikethrough': False, 'underline': False, 'code': False, 'color': 'default'}, 'plain_text': 'Alexandre2', 'href': None}]}, 'Total Amount': {'id': 'xFzN', 'type': 'number', 'number': 1262.5}, 'Client': {'id': 'title', 'type': 'title', 'title': [{'type': 'text', 'text': {'content': 'Test', 'link': None}, 'annotations': {'bold': False, 'italic': False, 'strikethrough': False, 'underline': False, 'code': False, 'color': 'default'}, 'plain_text': 'Test', 'href': None}]}}, 'url': 'https://www.notion.so/Test-2112cdbb475781f4a3dce994314e0411', 'public_url': 'https://tin-cloudberry-7b3.notion.site/Test-2112cdbb475781f4a3dce994314e0411', 'request_id': '0a88ff15-ff37-411e-8a43-580db50d092c'}\n"
     ]
    }
   ],
   "execution_count": 6
  }
 ],
 "metadata": {
  "kernelspec": {
   "display_name": "Python 3 (ipykernel)",
   "language": "python",
   "name": "python3"
  },
  "language_info": {
   "codemirror_mode": {
    "name": "ipython",
    "version": 3
   },
   "file_extension": ".py",
   "mimetype": "text/x-python",
   "name": "python",
   "nbconvert_exporter": "python",
   "pygments_lexer": "ipython3",
   "version": "3.12.4"
  }
 },
 "nbformat": 4,
 "nbformat_minor": 5
}
